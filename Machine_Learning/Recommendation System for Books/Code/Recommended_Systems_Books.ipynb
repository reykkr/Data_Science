{
 "cells": [
  {
   "cell_type": "code",
   "execution_count": null,
   "id": "afcf0118-b618-445e-b550-a6029359d398",
   "metadata": {
    "id": "afcf0118-b618-445e-b550-a6029359d398"
   },
   "outputs": [],
   "source": [
    "import pandas as pd\n",
    "import numpy as np\n",
    "import matplotlib.pyplot as plt"
   ]
  },
  {
   "cell_type": "code",
   "execution_count": null,
   "id": "a086faa6-7c10-4eaa-a576-3eb7be8180f7",
   "metadata": {
    "id": "a086faa6-7c10-4eaa-a576-3eb7be8180f7"
   },
   "outputs": [],
   "source": [
    "# Column names (assuming these are the columns in the dataset)\n",
    "retail_columns = ['InvoiceNo', 'StockCode', 'Description', 'Quantity', 'InvoiceDate', 'UnitPrice', 'CustomerID', 'Country']\n",
    "# Load the dataset\n",
    "retail_df = pd.read_csv('Online Retail.csv', encoding='latin-1', names=retail_columns, skiprows=1)"
   ]
  },
  {
   "cell_type": "code",
   "execution_count": null,
   "id": "8786a174-7120-4f21-a22c-990f5c5242c2",
   "metadata": {
    "id": "8786a174-7120-4f21-a22c-990f5c5242c2",
    "outputId": "ff30b54c-3dcc-42ca-90f5-6e839a6d807a"
   },
   "outputs": [
    {
     "data": {
      "text/html": [
       "<div>\n",
       "<style scoped>\n",
       "    .dataframe tbody tr th:only-of-type {\n",
       "        vertical-align: middle;\n",
       "    }\n",
       "\n",
       "    .dataframe tbody tr th {\n",
       "        vertical-align: top;\n",
       "    }\n",
       "\n",
       "    .dataframe thead th {\n",
       "        text-align: right;\n",
       "    }\n",
       "</style>\n",
       "<table border=\"1\" class=\"dataframe\">\n",
       "  <thead>\n",
       "    <tr style=\"text-align: right;\">\n",
       "      <th></th>\n",
       "      <th>InvoiceNo</th>\n",
       "      <th>StockCode</th>\n",
       "      <th>Description</th>\n",
       "      <th>Quantity</th>\n",
       "      <th>InvoiceDate</th>\n",
       "      <th>UnitPrice</th>\n",
       "      <th>CustomerID</th>\n",
       "      <th>Country</th>\n",
       "    </tr>\n",
       "  </thead>\n",
       "  <tbody>\n",
       "    <tr>\n",
       "      <th>0</th>\n",
       "      <td>536365</td>\n",
       "      <td>85123A</td>\n",
       "      <td>WHITE HANGING HEART T-LIGHT HOLDER</td>\n",
       "      <td>6</td>\n",
       "      <td>12/1/2010 8:26</td>\n",
       "      <td>2.55</td>\n",
       "      <td>17850.0</td>\n",
       "      <td>United Kingdom</td>\n",
       "    </tr>\n",
       "    <tr>\n",
       "      <th>1</th>\n",
       "      <td>536365</td>\n",
       "      <td>71053</td>\n",
       "      <td>WHITE METAL LANTERN</td>\n",
       "      <td>6</td>\n",
       "      <td>12/1/2010 8:26</td>\n",
       "      <td>3.39</td>\n",
       "      <td>17850.0</td>\n",
       "      <td>United Kingdom</td>\n",
       "    </tr>\n",
       "    <tr>\n",
       "      <th>2</th>\n",
       "      <td>536365</td>\n",
       "      <td>84406B</td>\n",
       "      <td>CREAM CUPID HEARTS COAT HANGER</td>\n",
       "      <td>8</td>\n",
       "      <td>12/1/2010 8:26</td>\n",
       "      <td>2.75</td>\n",
       "      <td>17850.0</td>\n",
       "      <td>United Kingdom</td>\n",
       "    </tr>\n",
       "    <tr>\n",
       "      <th>3</th>\n",
       "      <td>536365</td>\n",
       "      <td>84029G</td>\n",
       "      <td>KNITTED UNION FLAG HOT WATER BOTTLE</td>\n",
       "      <td>6</td>\n",
       "      <td>12/1/2010 8:26</td>\n",
       "      <td>3.39</td>\n",
       "      <td>17850.0</td>\n",
       "      <td>United Kingdom</td>\n",
       "    </tr>\n",
       "    <tr>\n",
       "      <th>4</th>\n",
       "      <td>536365</td>\n",
       "      <td>84029E</td>\n",
       "      <td>RED WOOLLY HOTTIE WHITE HEART.</td>\n",
       "      <td>6</td>\n",
       "      <td>12/1/2010 8:26</td>\n",
       "      <td>3.39</td>\n",
       "      <td>17850.0</td>\n",
       "      <td>United Kingdom</td>\n",
       "    </tr>\n",
       "    <tr>\n",
       "      <th>...</th>\n",
       "      <td>...</td>\n",
       "      <td>...</td>\n",
       "      <td>...</td>\n",
       "      <td>...</td>\n",
       "      <td>...</td>\n",
       "      <td>...</td>\n",
       "      <td>...</td>\n",
       "      <td>...</td>\n",
       "    </tr>\n",
       "    <tr>\n",
       "      <th>541904</th>\n",
       "      <td>581587</td>\n",
       "      <td>22613</td>\n",
       "      <td>PACK OF 20 SPACEBOY NAPKINS</td>\n",
       "      <td>12</td>\n",
       "      <td>12/9/2011 12:50</td>\n",
       "      <td>0.85</td>\n",
       "      <td>12680.0</td>\n",
       "      <td>France</td>\n",
       "    </tr>\n",
       "    <tr>\n",
       "      <th>541905</th>\n",
       "      <td>581587</td>\n",
       "      <td>22899</td>\n",
       "      <td>CHILDREN'S APRON DOLLY GIRL</td>\n",
       "      <td>6</td>\n",
       "      <td>12/9/2011 12:50</td>\n",
       "      <td>2.10</td>\n",
       "      <td>12680.0</td>\n",
       "      <td>France</td>\n",
       "    </tr>\n",
       "    <tr>\n",
       "      <th>541906</th>\n",
       "      <td>581587</td>\n",
       "      <td>23254</td>\n",
       "      <td>CHILDRENS CUTLERY DOLLY GIRL</td>\n",
       "      <td>4</td>\n",
       "      <td>12/9/2011 12:50</td>\n",
       "      <td>4.15</td>\n",
       "      <td>12680.0</td>\n",
       "      <td>France</td>\n",
       "    </tr>\n",
       "    <tr>\n",
       "      <th>541907</th>\n",
       "      <td>581587</td>\n",
       "      <td>23255</td>\n",
       "      <td>CHILDRENS CUTLERY CIRCUS PARADE</td>\n",
       "      <td>4</td>\n",
       "      <td>12/9/2011 12:50</td>\n",
       "      <td>4.15</td>\n",
       "      <td>12680.0</td>\n",
       "      <td>France</td>\n",
       "    </tr>\n",
       "    <tr>\n",
       "      <th>541908</th>\n",
       "      <td>581587</td>\n",
       "      <td>22138</td>\n",
       "      <td>BAKING SET 9 PIECE RETROSPOT</td>\n",
       "      <td>3</td>\n",
       "      <td>12/9/2011 12:50</td>\n",
       "      <td>4.95</td>\n",
       "      <td>12680.0</td>\n",
       "      <td>France</td>\n",
       "    </tr>\n",
       "  </tbody>\n",
       "</table>\n",
       "<p>541909 rows × 8 columns</p>\n",
       "</div>"
      ],
      "text/plain": [
       "       InvoiceNo StockCode                          Description  Quantity  \\\n",
       "0         536365    85123A   WHITE HANGING HEART T-LIGHT HOLDER         6   \n",
       "1         536365     71053                  WHITE METAL LANTERN         6   \n",
       "2         536365    84406B       CREAM CUPID HEARTS COAT HANGER         8   \n",
       "3         536365    84029G  KNITTED UNION FLAG HOT WATER BOTTLE         6   \n",
       "4         536365    84029E       RED WOOLLY HOTTIE WHITE HEART.         6   \n",
       "...          ...       ...                                  ...       ...   \n",
       "541904    581587     22613          PACK OF 20 SPACEBOY NAPKINS        12   \n",
       "541905    581587     22899         CHILDREN'S APRON DOLLY GIRL          6   \n",
       "541906    581587     23254        CHILDRENS CUTLERY DOLLY GIRL          4   \n",
       "541907    581587     23255      CHILDRENS CUTLERY CIRCUS PARADE         4   \n",
       "541908    581587     22138        BAKING SET 9 PIECE RETROSPOT          3   \n",
       "\n",
       "            InvoiceDate  UnitPrice  CustomerID         Country  \n",
       "0        12/1/2010 8:26       2.55     17850.0  United Kingdom  \n",
       "1        12/1/2010 8:26       3.39     17850.0  United Kingdom  \n",
       "2        12/1/2010 8:26       2.75     17850.0  United Kingdom  \n",
       "3        12/1/2010 8:26       3.39     17850.0  United Kingdom  \n",
       "4        12/1/2010 8:26       3.39     17850.0  United Kingdom  \n",
       "...                 ...        ...         ...             ...  \n",
       "541904  12/9/2011 12:50       0.85     12680.0          France  \n",
       "541905  12/9/2011 12:50       2.10     12680.0          France  \n",
       "541906  12/9/2011 12:50       4.15     12680.0          France  \n",
       "541907  12/9/2011 12:50       4.15     12680.0          France  \n",
       "541908  12/9/2011 12:50       4.95     12680.0          France  \n",
       "\n",
       "[541909 rows x 8 columns]"
      ]
     },
     "execution_count": 3,
     "metadata": {},
     "output_type": "execute_result"
    }
   ],
   "source": [
    "retail_df"
   ]
  },
  {
   "cell_type": "code",
   "execution_count": null,
   "id": "366d20fd-2e18-494c-806e-2182b72bdc61",
   "metadata": {
    "id": "366d20fd-2e18-494c-806e-2182b72bdc61"
   },
   "outputs": [],
   "source": [
    "# Data type conversion\n",
    "retail_df['InvoiceDate'] = pd.to_datetime(retail_df['InvoiceDate'])"
   ]
  },
  {
   "cell_type": "code",
   "execution_count": null,
   "id": "8f781e75-464b-49b9-a4ee-887632d2b75a",
   "metadata": {
    "id": "8f781e75-464b-49b9-a4ee-887632d2b75a",
    "outputId": "3227a37a-2a44-4567-fff2-3120297ab54d"
   },
   "outputs": [
    {
     "name": "stdout",
     "output_type": "stream",
     "text": [
      "InvoiceNo           0\n",
      "StockCode           0\n",
      "Description      1454\n",
      "Quantity            0\n",
      "InvoiceDate         0\n",
      "UnitPrice           0\n",
      "CustomerID     135037\n",
      "Country             0\n",
      "dtype: int64\n"
     ]
    }
   ],
   "source": [
    "# Check for missing values\n",
    "missing_values = retail_df.isnull().sum()\n",
    "print(missing_values)"
   ]
  },
  {
   "cell_type": "code",
   "execution_count": null,
   "id": "432adf49-e502-4dd8-9fcc-2609a7a83ed6",
   "metadata": {
    "id": "432adf49-e502-4dd8-9fcc-2609a7a83ed6"
   },
   "outputs": [],
   "source": [
    "# Removing duplicates\n",
    "retail_df = retail_df.drop_duplicates()"
   ]
  },
  {
   "cell_type": "code",
   "execution_count": null,
   "id": "b76e275f-106d-4e20-8484-597065d8e953",
   "metadata": {
    "id": "b76e275f-106d-4e20-8484-597065d8e953",
    "outputId": "49463ce7-ad5a-4280-ac50-bd96f898196f"
   },
   "outputs": [
    {
     "name": "stdout",
     "output_type": "stream",
     "text": [
      "            Quantity                    InvoiceDate      UnitPrice  \\\n",
      "count  541909.000000                         541909  541909.000000   \n",
      "mean        9.552250  2011-07-04 13:34:57.156386048       4.611114   \n",
      "min    -80995.000000            2010-12-01 08:26:00  -11062.060000   \n",
      "25%         1.000000            2011-03-28 11:34:00       1.250000   \n",
      "50%         3.000000            2011-07-19 17:17:00       2.080000   \n",
      "75%        10.000000            2011-10-19 11:27:00       4.130000   \n",
      "max     80995.000000            2011-12-09 12:50:00   38970.000000   \n",
      "std       218.081158                            NaN      96.759853   \n",
      "\n",
      "          CustomerID  \n",
      "count  406829.000000  \n",
      "mean    15287.690570  \n",
      "min     12346.000000  \n",
      "25%     13953.000000  \n",
      "50%     15152.000000  \n",
      "75%     16791.000000  \n",
      "max     18287.000000  \n",
      "std      1713.600303  \n"
     ]
    }
   ],
   "source": [
    "# Summary statistics for numerical columns\n",
    "summary_stats = retail_df.describe()\n",
    "print(summary_stats)"
   ]
  },
  {
   "cell_type": "code",
   "execution_count": null,
   "id": "108153e4-c30d-4c44-91ad-8864de7d2b99",
   "metadata": {
    "id": "108153e4-c30d-4c44-91ad-8864de7d2b99",
    "outputId": "13c8b30d-954c-430f-e294-bb53b4518d9d"
   },
   "outputs": [
    {
     "name": "stdout",
     "output_type": "stream",
     "text": [
      "Country\n",
      "United Kingdom          490300\n",
      "Germany                   9480\n",
      "France                    8541\n",
      "EIRE                      8184\n",
      "Spain                     2528\n",
      "Netherlands               2371\n",
      "Belgium                   2069\n",
      "Switzerland               1994\n",
      "Portugal                  1510\n",
      "Australia                 1258\n",
      "Norway                    1086\n",
      "Italy                      803\n",
      "Channel Islands            757\n",
      "Finland                    695\n",
      "Cyprus                     611\n",
      "Sweden                     461\n",
      "Unspecified                442\n",
      "Austria                    401\n",
      "Denmark                    389\n",
      "Japan                      358\n",
      "Poland                     341\n",
      "Israel                     294\n",
      "USA                        291\n",
      "Hong Kong                  284\n",
      "Singapore                  229\n",
      "Iceland                    182\n",
      "Canada                     151\n",
      "Greece                     146\n",
      "Malta                      127\n",
      "United Arab Emirates        68\n",
      "European Community          61\n",
      "RSA                         58\n",
      "Lebanon                     45\n",
      "Lithuania                   35\n",
      "Brazil                      32\n",
      "Czech Republic              30\n",
      "Bahrain                     19\n",
      "Saudi Arabia                10\n",
      "Name: count, dtype: int64\n"
     ]
    }
   ],
   "source": [
    "# Value counts for categorical data\n",
    "country_counts = retail_df['Country'].value_counts()\n",
    "print(country_counts)"
   ]
  },
  {
   "cell_type": "code",
   "execution_count": null,
   "id": "45d3106d-d360-4a85-8b4a-1952fd0844bc",
   "metadata": {
    "id": "45d3106d-d360-4a85-8b4a-1952fd0844bc",
    "outputId": "b57cd131-9e7e-4280-da76-1b8381591fe7"
   },
   "outputs": [
    {
     "name": "stdout",
     "output_type": "stream",
     "text": [
      "StockCode\n",
      "85123A    2301\n",
      "22423     2192\n",
      "85099B    2156\n",
      "47566     1720\n",
      "20725     1626\n",
      "          ... \n",
      "72781        1\n",
      "35015        1\n",
      "72793        1\n",
      "72789        1\n",
      "90091        1\n",
      "Name: count, Length: 4070, dtype: int64\n"
     ]
    }
   ],
   "source": [
    "stockcode_counts = retail_df['StockCode'].value_counts()\n",
    "print(stockcode_counts)"
   ]
  },
  {
   "cell_type": "code",
   "execution_count": null,
   "id": "183ead3f-1ce0-4785-bfd9-4b8d3cdd6e77",
   "metadata": {
    "id": "183ead3f-1ce0-4785-bfd9-4b8d3cdd6e77"
   },
   "outputs": [],
   "source": [
    "import matplotlib.pyplot as plt\n",
    "import seaborn as sns"
   ]
  },
  {
   "cell_type": "code",
   "execution_count": null,
   "id": "e45c41cc-fb19-4750-8bb6-4f44e308523f",
   "metadata": {
    "id": "e45c41cc-fb19-4750-8bb6-4f44e308523f",
    "outputId": "b38fd631-6ce2-40de-fb94-9d5f35416946"
   },
   "outputs": [
    {
     "data": {
      "image/png": "[encoded data removed]",
      "text/plain": [
       "<Figure size 640x480 with 1 Axes>"
      ]
     },
     "metadata": {},
     "output_type": "display_data"
    }
   ],
   "source": [
    "# Time Series Analysis (example: total sales over time)\n",
    "retail_df['TotalPrice'] = retail_df['Quantity'] * retail_df['UnitPrice']\n",
    "retail_df.set_index('InvoiceDate')['TotalPrice'].resample('M').sum().plot()\n",
    "plt.ylabel('Total Sales')\n",
    "plt.show()"
   ]
  },
  {
   "cell_type": "code",
   "execution_count": null,
   "id": "504c9f88-fb7c-4f09-9a95-92241938dfdd",
   "metadata": {
    "id": "504c9f88-fb7c-4f09-9a95-92241938dfdd",
    "outputId": "f0f9872f-b3c7-4e2f-ddf5-e11dd1d5fc03"
   },
   "outputs": [
    {
     "data": {
      "image/png": "[encoded data removed]",
      "text/plain": [
       "<Figure size 640x480 with 1 Axes>"
      ]
     },
     "metadata": {},
     "output_type": "display_data"
    }
   ],
   "source": [
    "# Country-wise Analysis\n",
    "retail_df.groupby('Country')['TotalPrice'].sum().plot(kind='bar')\n",
    "plt.ylabel('Total Sales')\n",
    "plt.show()"
   ]
  },
  {
   "cell_type": "code",
   "execution_count": null,
   "id": "8387dcd6-64e5-4691-abb1-badf79f646a4",
   "metadata": {
    "id": "8387dcd6-64e5-4691-abb1-badf79f646a4",
    "outputId": "a5e00901-577c-4027-95e3-f918e2f0b67e"
   },
   "outputs": [
    {
     "data": {
      "text/html": [
       "<div>\n",
       "<style scoped>\n",
       "    .dataframe tbody tr th:only-of-type {\n",
       "        vertical-align: middle;\n",
       "    }\n",
       "\n",
       "    .dataframe tbody tr th {\n",
       "        vertical-align: top;\n",
       "    }\n",
       "\n",
       "    .dataframe thead th {\n",
       "        text-align: right;\n",
       "    }\n",
       "</style>\n",
       "<table border=\"1\" class=\"dataframe\">\n",
       "  <thead>\n",
       "    <tr style=\"text-align: right;\">\n",
       "      <th></th>\n",
       "      <th>Quantity</th>\n",
       "      <th>UnitPrice</th>\n",
       "      <th>CustomerID</th>\n",
       "      <th>TotalPrice</th>\n",
       "    </tr>\n",
       "  </thead>\n",
       "  <tbody>\n",
       "    <tr>\n",
       "      <th>Quantity</th>\n",
       "      <td>1.000000</td>\n",
       "      <td>-0.001241</td>\n",
       "      <td>-0.003457</td>\n",
       "      <td>0.886712</td>\n",
       "    </tr>\n",
       "    <tr>\n",
       "      <th>UnitPrice</th>\n",
       "      <td>-0.001241</td>\n",
       "      <td>1.000000</td>\n",
       "      <td>-0.004524</td>\n",
       "      <td>-0.162043</td>\n",
       "    </tr>\n",
       "    <tr>\n",
       "      <th>CustomerID</th>\n",
       "      <td>-0.003457</td>\n",
       "      <td>-0.004524</td>\n",
       "      <td>1.000000</td>\n",
       "      <td>-0.002130</td>\n",
       "    </tr>\n",
       "    <tr>\n",
       "      <th>TotalPrice</th>\n",
       "      <td>0.886712</td>\n",
       "      <td>-0.162043</td>\n",
       "      <td>-0.002130</td>\n",
       "      <td>1.000000</td>\n",
       "    </tr>\n",
       "  </tbody>\n",
       "</table>\n",
       "</div>"
      ],
      "text/plain": [
       "            Quantity  UnitPrice  CustomerID  TotalPrice\n",
       "Quantity    1.000000  -0.001241   -0.003457    0.886712\n",
       "UnitPrice  -0.001241   1.000000   -0.004524   -0.162043\n",
       "CustomerID -0.003457  -0.004524    1.000000   -0.002130\n",
       "TotalPrice  0.886712  -0.162043   -0.002130    1.000000"
      ]
     },
     "execution_count": 31,
     "metadata": {},
     "output_type": "execute_result"
    }
   ],
   "source": [
    "# Correlation Matrix\n",
    "retail_df.corr(numeric_only=True)"
   ]
  },
  {
   "cell_type": "code",
   "execution_count": null,
   "id": "8da04b86-85ac-45e0-b1cc-4318e6a6e950",
   "metadata": {
    "id": "8da04b86-85ac-45e0-b1cc-4318e6a6e950",
    "outputId": "efdf1dfb-c5d7-4585-8b58-8c3f53bd4e2f"
   },
   "outputs": [
    {
     "data": {
      "image/png": "[encoded data removed]",
      "text/plain": [
       "<Figure size 640x480 with 1 Axes>"
      ]
     },
     "metadata": {},
     "output_type": "display_data"
    }
   ],
   "source": [
    "# Top Selling Products\n",
    "top_products = retail_df.groupby('StockCode')['Quantity'].sum().sort_values(ascending=False).head(10)\n",
    "top_products.plot(kind='bar')\n",
    "plt.ylabel('Total Quantity Sold')\n",
    "plt.show()"
   ]
  },
  {
   "cell_type": "code",
   "execution_count": null,
   "id": "e534c947-c7ab-4140-b093-20470617c5c9",
   "metadata": {
    "id": "e534c947-c7ab-4140-b093-20470617c5c9"
   },
   "outputs": [],
   "source": [
    "# Create TF-IDF matrix for item descriptions\n",
    "from sklearn.feature_extraction.text import TfidfVectorizer\n",
    "from sklearn.metrics.pairwise import cosine_similarity\n",
    "\n",
    "# Preprocess data: remove missing values, aggregate descriptions by StockCode\n",
    "retail_df.dropna(subset=['Description', 'CustomerID'], inplace=True)\n",
    "item_profiles = retail_df.groupby('StockCode')['Description'].apply(' '.join).reset_index()"
   ]
  },
  {
   "cell_type": "code",
   "execution_count": null,
   "id": "2ba69551-733d-4a04-bc3c-e3e9133a34d7",
   "metadata": {
    "id": "2ba69551-733d-4a04-bc3c-e3e9133a34d7",
    "outputId": "8c0bff02-4aa1-49ca-e5d5-be04ee5123fa"
   },
   "outputs": [
    {
     "data": {
      "text/html": [
       "<div>\n",
       "<style scoped>\n",
       "    .dataframe tbody tr th:only-of-type {\n",
       "        vertical-align: middle;\n",
       "    }\n",
       "\n",
       "    .dataframe tbody tr th {\n",
       "        vertical-align: top;\n",
       "    }\n",
       "\n",
       "    .dataframe thead th {\n",
       "        text-align: right;\n",
       "    }\n",
       "</style>\n",
       "<table border=\"1\" class=\"dataframe\">\n",
       "  <thead>\n",
       "    <tr style=\"text-align: right;\">\n",
       "      <th></th>\n",
       "      <th>InvoiceNo</th>\n",
       "      <th>StockCode</th>\n",
       "      <th>Description</th>\n",
       "      <th>Quantity</th>\n",
       "      <th>InvoiceDate</th>\n",
       "      <th>UnitPrice</th>\n",
       "      <th>CustomerID</th>\n",
       "      <th>Country</th>\n",
       "      <th>TotalPrice</th>\n",
       "    </tr>\n",
       "  </thead>\n",
       "  <tbody>\n",
       "    <tr>\n",
       "      <th>0</th>\n",
       "      <td>536365</td>\n",
       "      <td>85123A</td>\n",
       "      <td>WHITE HANGING HEART T-LIGHT HOLDER</td>\n",
       "      <td>6</td>\n",
       "      <td>2010-12-01 08:26:00</td>\n",
       "      <td>2.55</td>\n",
       "      <td>17850.0</td>\n",
       "      <td>United Kingdom</td>\n",
       "      <td>15.30</td>\n",
       "    </tr>\n",
       "    <tr>\n",
       "      <th>1</th>\n",
       "      <td>536365</td>\n",
       "      <td>71053</td>\n",
       "      <td>WHITE METAL LANTERN</td>\n",
       "      <td>6</td>\n",
       "      <td>2010-12-01 08:26:00</td>\n",
       "      <td>3.39</td>\n",
       "      <td>17850.0</td>\n",
       "      <td>United Kingdom</td>\n",
       "      <td>20.34</td>\n",
       "    </tr>\n",
       "    <tr>\n",
       "      <th>2</th>\n",
       "      <td>536365</td>\n",
       "      <td>84406B</td>\n",
       "      <td>CREAM CUPID HEARTS COAT HANGER</td>\n",
       "      <td>8</td>\n",
       "      <td>2010-12-01 08:26:00</td>\n",
       "      <td>2.75</td>\n",
       "      <td>17850.0</td>\n",
       "      <td>United Kingdom</td>\n",
       "      <td>22.00</td>\n",
       "    </tr>\n",
       "    <tr>\n",
       "      <th>3</th>\n",
       "      <td>536365</td>\n",
       "      <td>84029G</td>\n",
       "      <td>KNITTED UNION FLAG HOT WATER BOTTLE</td>\n",
       "      <td>6</td>\n",
       "      <td>2010-12-01 08:26:00</td>\n",
       "      <td>3.39</td>\n",
       "      <td>17850.0</td>\n",
       "      <td>United Kingdom</td>\n",
       "      <td>20.34</td>\n",
       "    </tr>\n",
       "    <tr>\n",
       "      <th>4</th>\n",
       "      <td>536365</td>\n",
       "      <td>84029E</td>\n",
       "      <td>RED WOOLLY HOTTIE WHITE HEART.</td>\n",
       "      <td>6</td>\n",
       "      <td>2010-12-01 08:26:00</td>\n",
       "      <td>3.39</td>\n",
       "      <td>17850.0</td>\n",
       "      <td>United Kingdom</td>\n",
       "      <td>20.34</td>\n",
       "    </tr>\n",
       "    <tr>\n",
       "      <th>...</th>\n",
       "      <td>...</td>\n",
       "      <td>...</td>\n",
       "      <td>...</td>\n",
       "      <td>...</td>\n",
       "      <td>...</td>\n",
       "      <td>...</td>\n",
       "      <td>...</td>\n",
       "      <td>...</td>\n",
       "      <td>...</td>\n",
       "    </tr>\n",
       "    <tr>\n",
       "      <th>541904</th>\n",
       "      <td>581587</td>\n",
       "      <td>22613</td>\n",
       "      <td>PACK OF 20 SPACEBOY NAPKINS</td>\n",
       "      <td>12</td>\n",
       "      <td>2011-12-09 12:50:00</td>\n",
       "      <td>0.85</td>\n",
       "      <td>12680.0</td>\n",
       "      <td>France</td>\n",
       "      <td>10.20</td>\n",
       "    </tr>\n",
       "    <tr>\n",
       "      <th>541905</th>\n",
       "      <td>581587</td>\n",
       "      <td>22899</td>\n",
       "      <td>CHILDREN'S APRON DOLLY GIRL</td>\n",
       "      <td>6</td>\n",
       "      <td>2011-12-09 12:50:00</td>\n",
       "      <td>2.10</td>\n",
       "      <td>12680.0</td>\n",
       "      <td>France</td>\n",
       "      <td>12.60</td>\n",
       "    </tr>\n",
       "    <tr>\n",
       "      <th>541906</th>\n",
       "      <td>581587</td>\n",
       "      <td>23254</td>\n",
       "      <td>CHILDRENS CUTLERY DOLLY GIRL</td>\n",
       "      <td>4</td>\n",
       "      <td>2011-12-09 12:50:00</td>\n",
       "      <td>4.15</td>\n",
       "      <td>12680.0</td>\n",
       "      <td>France</td>\n",
       "      <td>16.60</td>\n",
       "    </tr>\n",
       "    <tr>\n",
       "      <th>541907</th>\n",
       "      <td>581587</td>\n",
       "      <td>23255</td>\n",
       "      <td>CHILDRENS CUTLERY CIRCUS PARADE</td>\n",
       "      <td>4</td>\n",
       "      <td>2011-12-09 12:50:00</td>\n",
       "      <td>4.15</td>\n",
       "      <td>12680.0</td>\n",
       "      <td>France</td>\n",
       "      <td>16.60</td>\n",
       "    </tr>\n",
       "    <tr>\n",
       "      <th>541908</th>\n",
       "      <td>581587</td>\n",
       "      <td>22138</td>\n",
       "      <td>BAKING SET 9 PIECE RETROSPOT</td>\n",
       "      <td>3</td>\n",
       "      <td>2011-12-09 12:50:00</td>\n",
       "      <td>4.95</td>\n",
       "      <td>12680.0</td>\n",
       "      <td>France</td>\n",
       "      <td>14.85</td>\n",
       "    </tr>\n",
       "  </tbody>\n",
       "</table>\n",
       "<p>401604 rows × 9 columns</p>\n",
       "</div>"
      ],
      "text/plain": [
       "       InvoiceNo StockCode                          Description  Quantity  \\\n",
       "0         536365    85123A   WHITE HANGING HEART T-LIGHT HOLDER         6   \n",
       "1         536365     71053                  WHITE METAL LANTERN         6   \n",
       "2         536365    84406B       CREAM CUPID HEARTS COAT HANGER         8   \n",
       "3         536365    84029G  KNITTED UNION FLAG HOT WATER BOTTLE         6   \n",
       "4         536365    84029E       RED WOOLLY HOTTIE WHITE HEART.         6   \n",
       "...          ...       ...                                  ...       ...   \n",
       "541904    581587     22613          PACK OF 20 SPACEBOY NAPKINS        12   \n",
       "541905    581587     22899         CHILDREN'S APRON DOLLY GIRL          6   \n",
       "541906    581587     23254        CHILDRENS CUTLERY DOLLY GIRL          4   \n",
       "541907    581587     23255      CHILDRENS CUTLERY CIRCUS PARADE         4   \n",
       "541908    581587     22138        BAKING SET 9 PIECE RETROSPOT          3   \n",
       "\n",
       "               InvoiceDate  UnitPrice  CustomerID         Country  TotalPrice  \n",
       "0      2010-12-01 08:26:00       2.55     17850.0  United Kingdom       15.30  \n",
       "1      2010-12-01 08:26:00       3.39     17850.0  United Kingdom       20.34  \n",
       "2      2010-12-01 08:26:00       2.75     17850.0  United Kingdom       22.00  \n",
       "3      2010-12-01 08:26:00       3.39     17850.0  United Kingdom       20.34  \n",
       "4      2010-12-01 08:26:00       3.39     17850.0  United Kingdom       20.34  \n",
       "...                    ...        ...         ...             ...         ...  \n",
       "541904 2011-12-09 12:50:00       0.85     12680.0          France       10.20  \n",
       "541905 2011-12-09 12:50:00       2.10     12680.0          France       12.60  \n",
       "541906 2011-12-09 12:50:00       4.15     12680.0          France       16.60  \n",
       "541907 2011-12-09 12:50:00       4.15     12680.0          France       16.60  \n",
       "541908 2011-12-09 12:50:00       4.95     12680.0          France       14.85  \n",
       "\n",
       "[401604 rows x 9 columns]"
      ]
     },
     "execution_count": 35,
     "metadata": {},
     "output_type": "execute_result"
    }
   ],
   "source": [
    "tfidf = TfidfVectorizer(stop_words='english')\n",
    "tfidf_matrix = tfidf.fit_transform(item_profiles['Description'])"
   ]
  },
  {
   "cell_type": "code",
   "execution_count": null,
   "id": "f38ed937-81a3-4ea4-95b6-4ba7a0468d3a",
   "metadata": {
    "id": "f38ed937-81a3-4ea4-95b6-4ba7a0468d3a"
   },
   "outputs": [],
   "source": [
    "# Function to recommend items for a user\n",
    "def recommend_items_for_user(user_id, num_recommendations=5):\n",
    "    # Filter user's purchase history\n",
    "    bought_items = retail_df[retail_df['CustomerID'] == user_id]['StockCode'].unique()\n",
    "\n",
    "    # Calculate similarity between user's bought items and all items\n",
    "    bought_items_profile = sum([tfidf_matrix[item_profiles['StockCode'] == item] for item in bought_items])\n",
    "    cosine_similarities = cosine_similarity(bought_items_profile, tfidf_matrix).flatten()\n",
    "\n",
    "    # Exclude already bought items and get top recommendations\n",
    "    similar_indices = [i for i in cosine_similarities.argsort()[::-1] if item_profiles['StockCode'][i] not in bought_items][:num_recommendations]\n",
    "    return item_profiles['StockCode'].iloc[similar_indices]"
   ]
  },
  {
   "cell_type": "code",
   "execution_count": null,
   "id": "2f968848-842f-44ee-8251-5fe75ba1ab44",
   "metadata": {
    "id": "2f968848-842f-44ee-8251-5fe75ba1ab44",
    "outputId": "34413812-78d7-4662-e876-61bb5bdd5f04"
   },
   "outputs": [
    {
     "name": "stdout",
     "output_type": "stream",
     "text": [
      "1108    22216\n",
      "335     21066\n",
      "757     21733\n",
      "2778    82484\n",
      "1929    23090\n",
      "Name: StockCode, dtype: object\n"
     ]
    }
   ],
   "source": [
    "# Example: Get recommendations for a user\n",
    "user_id = 17850  # replace with a real CustomerID from your dataset\n",
    "recommended_items = recommend_items_for_user(user_id)\n",
    "print(recommended_items)"
   ]
  },
  {
   "cell_type": "code",
   "execution_count": null,
   "id": "a28d85c1-79cf-45a8-ac95-8611baacdb11",
   "metadata": {
    "id": "a28d85c1-79cf-45a8-ac95-8611baacdb11",
    "outputId": "e22b3a9b-dac6-42c6-8582-a451e6009138"
   },
   "outputs": [
    {
     "name": "stdout",
     "output_type": "stream",
     "text": [
      "757      21733\n",
      "3126    84970S\n",
      "807      21814\n",
      "3248     85118\n",
      "3131     84978\n",
      "Name: StockCode, dtype: object\n"
     ]
    }
   ],
   "source": [
    "# Function to recommend similar items\n",
    "def recommend_similar_items(item_id, num_recommendations=5):\n",
    "    # Find the index of the given item\n",
    "    item_idx = item_profiles.index[item_profiles['StockCode'] == item_id].tolist()[0]\n",
    "\n",
    "    # Compute cosine similarities\n",
    "    cosine_similarities = cosine_similarity(tfidf_matrix[item_idx:item_idx+1], tfidf_matrix).flatten()\n",
    "\n",
    "    # Get top similar items excluding the item itself\n",
    "    similar_indices = [i for i in cosine_similarities.argsort()[::-1] if i != item_idx][:num_recommendations]\n",
    "    return item_profiles['StockCode'].iloc[similar_indices]\n",
    "\n",
    "# Example: Get recommendations for an item\n",
    "item_id = '85123A'  # replace with a real StockCode from your dataset\n",
    "similar_items = recommend_similar_items(item_id)\n",
    "print(similar_items)"
   ]
  }
 ],
 "metadata": {
  "colab": {
   "provenance": []
  },
  "kernelspec": {
   "display_name": "Python 3 (ipykernel)",
   "language": "python",
   "name": "python3"
  },
  "language_info": {
   "codemirror_mode": {
    "name": "ipython",
    "version": 3
   },
   "file_extension": ".py",
   "mimetype": "text/x-python",
   "name": "python",
   "nbconvert_exporter": "python",
   "pygments_lexer": "ipython3",
   "version": "3.11.4"
  }
 },
 "nbformat": 4,
 "nbformat_minor": 5
}
