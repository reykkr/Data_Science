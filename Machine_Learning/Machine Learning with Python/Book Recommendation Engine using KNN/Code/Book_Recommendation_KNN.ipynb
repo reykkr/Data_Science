{
  "cells": [
    {
      "cell_type": "code",
      "execution_count": 13,
      "metadata": {
        "id": "Y1onB6kUvo4Z"
      },
      "outputs": [],
      "source": [
        "# import libraries (you may add additional imports but you may not have to)\n",
        "import numpy as np\n",
        "import pandas as pd\n",
        "from scipy.sparse import csr_matrix\n",
        "from sklearn.neighbors import NearestNeighbors\n",
        "import matplotlib.pyplot as plt"
      ]
    },
    {
      "cell_type": "code",
      "execution_count": 14,
      "metadata": {
        "id": "iAQGqqO_vo4d",
        "colab": {
          "base_uri": "https://localhost:8080/"
        },
        "outputId": "2eb0d0f2-0210-4acb-e582-2bf2394ff419"
      },
      "outputs": [
        {
          "output_type": "stream",
          "name": "stdout",
          "text": [
            "--2024-11-14 20:04:59--  https://cdn.freecodecamp.org/project-data/books/book-crossings.zip\n",
            "Resolving cdn.freecodecamp.org (cdn.freecodecamp.org)... 104.26.2.33, 104.26.3.33, 172.67.70.149, ...\n",
            "Connecting to cdn.freecodecamp.org (cdn.freecodecamp.org)|104.26.2.33|:443... connected.\n",
            "HTTP request sent, awaiting response... 200 OK\n",
            "Length: 26085508 (25M) [application/zip]\n",
            "Saving to: ‘book-crossings.zip.3’\n",
            "\n",
            "book-crossings.zip. 100%[===================>]  24.88M  85.1MB/s    in 0.3s    \n",
            "\n",
            "2024-11-14 20:04:59 (85.1 MB/s) - ‘book-crossings.zip.3’ saved [26085508/26085508]\n",
            "\n",
            "Archive:  book-crossings.zip\n",
            "replace BX-Book-Ratings.csv? [y]es, [n]o, [A]ll, [N]one, [r]ename: A\n",
            "  inflating: BX-Book-Ratings.csv     \n",
            "  inflating: BX-Books.csv            \n",
            "  inflating: BX-Users.csv            \n"
          ]
        }
      ],
      "source": [
        "# get data files\n",
        "!wget https://cdn.freecodecamp.org/project-data/books/book-crossings.zip\n",
        "\n",
        "!unzip book-crossings.zip\n",
        "\n",
        "books_filename = 'BX-Books.csv'\n",
        "ratings_filename = 'BX-Book-Ratings.csv'"
      ]
    },
    {
      "cell_type": "code",
      "execution_count": 19,
      "metadata": {
        "id": "NClILWOiEd6Q"
      },
      "outputs": [],
      "source": [
        "# import csv data into dataframes\n",
        "df_books = pd.read_csv(\n",
        "    books_filename,\n",
        "    encoding = \"ISO-8859-1\",\n",
        "    sep=\";\",\n",
        "    header=0,\n",
        "    names=['isbn', 'title', 'author'],\n",
        "    usecols=['isbn', 'title', 'author'],\n",
        "    dtype={'isbn': 'str', 'title': 'str', 'author': 'str'})\n",
        "\n",
        "df_ratings = pd.read_csv(\n",
        "    ratings_filename,\n",
        "    encoding = \"ISO-8859-1\",\n",
        "    sep=\";\",\n",
        "    header=0,\n",
        "    names=['user', 'isbn', 'rating'],\n",
        "    usecols=['user', 'isbn', 'rating'],\n",
        "    dtype={'user': 'int32', 'isbn': 'str', 'rating': 'float32'})"
      ]
    },
    {
      "cell_type": "code",
      "execution_count": 20,
      "metadata": {
        "id": "xAcXjkCFCh0A"
      },
      "outputs": [],
      "source": [
        "# Filter out users and books based on rating counts\n",
        "filtered_users = df_ratings['user'].value_counts()\n",
        "filtered_users = filtered_users[filtered_users >= 200].index\n",
        "filtered_books = df_ratings['isbn'].value_counts()\n",
        "filtered_books = filtered_books[filtered_books >= 100].index\n",
        "\n",
        "# Apply the filter\n",
        "filtered_ratings = df_ratings[(df_ratings['user'].isin(filtered_users)) & (df_ratings['isbn'].isin(filtered_books))]\n",
        "\n",
        "# Create a pivot table for the user-book matrix\n",
        "book_user_matrix = filtered_ratings.pivot(index='isbn', columns='user', values='rating').fillna(0)\n",
        "\n",
        "# Convert the pivot table to a sparse matrix format\n",
        "book_user_sparse = csr_matrix(book_user_matrix.values)\n",
        "\n",
        "# Train NearestNeighbors model using cosine similarity\n",
        "model_knn = NearestNeighbors(metric='cosine', algorithm='brute')\n",
        "model_knn.fit(book_user_sparse)\n",
        "\n",
        "# Create mappings between ISBN and book title\n",
        "isbn_to_title = dict(zip(df_books['isbn'], df_books['title']))\n",
        "title_to_isbn = dict(zip(df_books['title'], df_books['isbn']))"
      ]
    },
    {
      "cell_type": "code",
      "execution_count": 21,
      "metadata": {
        "id": "f5ZUd-L1SQz7"
      },
      "outputs": [],
      "source": [
        "def get_recommends(book=\"\"):\n",
        "    # Check if the book is in the dataset\n",
        "    if book not in title_to_isbn:\n",
        "        return [book, []]\n",
        "\n",
        "    # Get the ISBN of the requested book\n",
        "    book_isbn = title_to_isbn[book]\n",
        "\n",
        "    # Get the index of the book\n",
        "    book_idx = book_user_matrix.index.get_loc(book_isbn)\n",
        "\n",
        "    # Find the nearest neighbors for the book\n",
        "    distances, indices = model_knn.kneighbors(book_user_sparse[book_idx], n_neighbors=6)\n",
        "\n",
        "    # Prepare the recommendations list\n",
        "    recommended_books = [book]\n",
        "    similar_books = []\n",
        "\n",
        "    for i in range(1, len(distances.flatten())):\n",
        "        similar_idx = indices.flatten()[i]\n",
        "        similar_isbn = book_user_matrix.index[similar_idx]\n",
        "        similar_title = isbn_to_title[similar_isbn]\n",
        "        distance = round(distances.flatten()[i], 2)\n",
        "        similar_books.append([similar_title, distance])\n",
        "\n",
        "    # Sort the similar books by distance to ensure consistency in output order\n",
        "    similar_books = sorted(similar_books, key=lambda x: x[1], reverse=True)\n",
        "\n",
        "    # Ensure to return the top 5 recommendations\n",
        "    recommended_books.append(similar_books[:5])\n",
        "\n",
        "    return recommended_books"
      ]
    },
    {
      "cell_type": "code",
      "execution_count": 22,
      "metadata": {
        "id": "jd2SLCh8oxMh",
        "colab": {
          "base_uri": "https://localhost:8080/"
        },
        "outputId": "a21da198-4768-446b-a8eb-d881107d43a9"
      },
      "outputs": [
        {
          "output_type": "stream",
          "name": "stdout",
          "text": [
            "[\"Where the Heart Is (Oprah's Book Club (Paperback))\", [[\"I'll Be Seeing You\", 0.8], ['I Know This Much Is True', 0.77], ['The Surgeon', 0.77], ['The Weight of Water', 0.77], ['The Lovely Bones: A Novel', 0.72]]]\n",
            "You passed the challenge! 🎉🎉🎉🎉🎉\n"
          ]
        }
      ],
      "source": [
        "books = get_recommends(\"Where the Heart Is (Oprah's Book Club (Paperback))\")\n",
        "print(books)\n",
        "\n",
        "def test_book_recommendation():\n",
        "  test_pass = True\n",
        "  recommends = get_recommends(\"Where the Heart Is (Oprah's Book Club (Paperback))\")\n",
        "  if recommends[0] != \"Where the Heart Is (Oprah's Book Club (Paperback))\":\n",
        "    test_pass = False\n",
        "  recommended_books = [\"I'll Be Seeing You\", 'The Weight of Water', 'The Surgeon', 'I Know This Much Is True']\n",
        "  recommended_books_dist = [0.8, 0.77, 0.77, 0.77]\n",
        "  for i in range(2):\n",
        "    if recommends[1][i][0] not in recommended_books:\n",
        "      test_pass = False\n",
        "    if abs(recommends[1][i][1] - recommended_books_dist[i]) >= 0.05:\n",
        "      test_pass = False\n",
        "  if test_pass:\n",
        "    print(\"You passed the challenge! 🎉🎉🎉🎉🎉\")\n",
        "  else:\n",
        "    print(\"You haven't passed yet. Keep trying!\")\n",
        "\n",
        "test_book_recommendation()"
      ]
    }
  ],
  "metadata": {
    "colab": {
      "name": "fcc_book_recommendation_knn.ipynb",
      "provenance": []
    },
    "kernelspec": {
      "display_name": "Python 3",
      "language": "python",
      "name": "python3"
    },
    "language_info": {
      "codemirror_mode": {
        "name": "ipython",
        "version": 3
      },
      "file_extension": ".py",
      "mimetype": "text/x-python",
      "name": "python",
      "nbconvert_exporter": "python",
      "pygments_lexer": "ipython3",
      "version": "3.6.5"
    }
  },
  "nbformat": 4,
  "nbformat_minor": 0
}